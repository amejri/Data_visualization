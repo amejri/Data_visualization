{
 "cells": [
  {
   "cell_type": "code",
   "execution_count": 2,
   "metadata": {},
   "outputs": [],
   "source": [
    "import calendar\n",
    "import numpy as np \n",
    "import pandas as pd\n",
    "import matplotlib.pyplot as plt"
   ]
  },
  {
   "cell_type": "code",
   "execution_count": 3,
   "metadata": {},
   "outputs": [],
   "source": [
    "COLORS = ['#7DFB6D', '#C7B815', '#D4752E', '#C7583F','#d64161', '#86af49', '#c1946a',\n",
    "          '#92a8d1','#563f46', '#96897f', '#7e4a35', '#c1502e','#587e76', '#87bdd8',\n",
    "          '#D4752E','#c83349','#7DFB6D', '#C7B815', '#622569']"
   ]
  },
  {
   "cell_type": "code",
   "execution_count": 4,
   "metadata": {
    "collapsed": true
   },
   "outputs": [
    {
     "data": {
      "text/html": [
       "<div>\n",
       "<style scoped>\n",
       "    .dataframe tbody tr th:only-of-type {\n",
       "        vertical-align: middle;\n",
       "    }\n",
       "\n",
       "    .dataframe tbody tr th {\n",
       "        vertical-align: top;\n",
       "    }\n",
       "\n",
       "    .dataframe thead th {\n",
       "        text-align: right;\n",
       "    }\n",
       "</style>\n",
       "<table border=\"1\" class=\"dataframe\">\n",
       "  <thead>\n",
       "    <tr style=\"text-align: right;\">\n",
       "      <th></th>\n",
       "      <th>File ID</th>\n",
       "      <th>English_name</th>\n",
       "      <th>Vocalization_type</th>\n",
       "      <th>Quality</th>\n",
       "      <th>Time</th>\n",
       "      <th>Date</th>\n",
       "      <th>X</th>\n",
       "      <th>Y</th>\n",
       "    </tr>\n",
       "  </thead>\n",
       "  <tbody>\n",
       "    <tr>\n",
       "      <th>0</th>\n",
       "      <td>402254</td>\n",
       "      <td>Rose-crested Blue Pipit</td>\n",
       "      <td>call</td>\n",
       "      <td>no score</td>\n",
       "      <td>13:30</td>\n",
       "      <td>2/8/2018</td>\n",
       "      <td>49</td>\n",
       "      <td>63</td>\n",
       "    </tr>\n",
       "    <tr>\n",
       "      <th>1</th>\n",
       "      <td>406171</td>\n",
       "      <td>Rose-crested Blue Pipit</td>\n",
       "      <td>call</td>\n",
       "      <td>A</td>\n",
       "      <td>7:48</td>\n",
       "      <td>6/7/2017</td>\n",
       "      <td>125</td>\n",
       "      <td>133</td>\n",
       "    </tr>\n",
       "    <tr>\n",
       "      <th>2</th>\n",
       "      <td>405901</td>\n",
       "      <td>Rose-crested Blue Pipit</td>\n",
       "      <td>call</td>\n",
       "      <td>A</td>\n",
       "      <td>12:00</td>\n",
       "      <td>2/8/2018</td>\n",
       "      <td>58</td>\n",
       "      <td>76</td>\n",
       "    </tr>\n",
       "    <tr>\n",
       "      <th>3</th>\n",
       "      <td>405548</td>\n",
       "      <td>Rose-crested Blue Pipit</td>\n",
       "      <td>song</td>\n",
       "      <td>A</td>\n",
       "      <td>11:00</td>\n",
       "      <td>3/10/2018</td>\n",
       "      <td>55</td>\n",
       "      <td>125</td>\n",
       "    </tr>\n",
       "    <tr>\n",
       "      <th>4</th>\n",
       "      <td>401782</td>\n",
       "      <td>Rose-crested Blue Pipit</td>\n",
       "      <td>song</td>\n",
       "      <td>A</td>\n",
       "      <td>6:00</td>\n",
       "      <td>6/29/2008</td>\n",
       "      <td>129</td>\n",
       "      <td>123</td>\n",
       "    </tr>\n",
       "  </tbody>\n",
       "</table>\n",
       "</div>"
      ],
      "text/plain": [
       "   File ID             English_name Vocalization_type   Quality   Time  \\\n",
       "0   402254  Rose-crested Blue Pipit              call  no score  13:30   \n",
       "1   406171  Rose-crested Blue Pipit              call         A   7:48   \n",
       "2   405901  Rose-crested Blue Pipit              call         A  12:00   \n",
       "3   405548  Rose-crested Blue Pipit              song         A  11:00   \n",
       "4   401782  Rose-crested Blue Pipit              song         A   6:00   \n",
       "\n",
       "        Date    X    Y  \n",
       "0   2/8/2018   49   63  \n",
       "1   6/7/2017  125  133  \n",
       "2   2/8/2018   58   76  \n",
       "3  3/10/2018   55  125  \n",
       "4  6/29/2008  129  123  "
      ]
     },
     "execution_count": 4,
     "metadata": {},
     "output_type": "execute_result"
    }
   ],
   "source": [
    "data=pd.read_csv('AllBirdsv4.csv')\n",
    "data.shape"
   ]
  },
  {
   "cell_type": "code",
   "execution_count": 5,
   "metadata": {},
   "outputs": [],
   "source": [
    "bird_names = pd.unique(data.English_name).tolist()\n",
    "\n",
    "dumping_site = (148,159)\n",
    "data['Y']=data['Y'].str.replace('?', '')\n",
    "data['Y']=pd.to_numeric(data['Y'], errors='ignore')\n",
    "\n",
    "format1 = pd.to_datetime(data['Date'], errors = 'coerce', format = \"%m/%d/%Y\").dropna()\n",
    "format2 = pd.to_datetime(data['Date'], errors = 'coerce', format = \"%Y-%m-%d\").dropna()\n",
    "format3 = pd.to_datetime(data['Date'], errors = 'coerce', format = \"%Y-%m-00\").dropna()\n",
    "\n",
    "\n",
    "data = data.drop(columns=['Date'])\n",
    "\n",
    "\n",
    "data['Date'] = pd.concat([format1,format2,format3], axis = 0)\n",
    "data =data[~data['Date'].isna()]\n",
    "\n"
   ]
  },
  {
   "cell_type": "code",
   "execution_count": 7,
   "metadata": {},
   "outputs": [],
   "source": [
    "colors =[COLORS[bird_names.index(i)] for i in data.English_name.values.tolist()]\n",
    "data['color'] = colors"
   ]
  },
  {
   "cell_type": "code",
   "execution_count": 29,
   "metadata": {},
   "outputs": [],
   "source": [
    "c = pd.to_datetime(data['Date'], errors = 'coerce', format = \"%Y-%m-00\").dropna()\n",
    "n = c.map(lambda x: x.year)\n",
    "data[\"Date\"]=n"
   ]
  },
  {
   "cell_type": "code",
   "execution_count": 75,
   "metadata": {},
   "outputs": [],
   "source": [
    "data[\"Vocalization_type\"]=  data[\"Vocalization_type\"].str.upper()"
   ]
  },
  {
   "cell_type": "code",
   "execution_count": 88,
   "metadata": {},
   "outputs": [
    {
     "data": {
      "image/png": "[encoded data removed]",
      "text/plain": [
       "<Figure size 1080x504 with 1 Axes>"
      ]
     },
     "metadata": {},
     "output_type": "display_data"
    }
   ],
   "source": [
    "fig, ax = plt.subplots(figsize=(15,7))\n",
    "data[(data[\"English_name\"]== \"Rose-crested Blue Pipit\") & (data[\"Vocalization_type\"]== \"SONG\")].groupby(\"Date\").count()[\"File ID\"].plot(ax=ax,label='songs')\n",
    "data[(data[\"English_name\"]== \"Rose-crested Blue Pipit\") & (data[\"Vocalization_type\"]== \"CALL\")].groupby(\"Date\").count()[\"File ID\"].plot(ax=ax, label='calls')\n",
    "plt.legend()\n",
    "plt.title('Number of songs and calls of Rose-crested Blue Pipit over the years')\n",
    "plt.show()"
   ]
  },
  {
   "cell_type": "markdown",
   "metadata": {},
   "source": [
    "<div class=\"alert alert-info\" >  \n",
    "**Comments: **    \n",
    "\n",
    "- The number of sightings of the Pipit shows an overall decreasing trend since 2015. And the analysis until now indicates that Kasios might be hiding the truth for their own interests.   \n",
    "\n",
    "- Number of bird calls show an increasing trend. Although, in itself this is not a sufficient proof that there is something wrong with the Pipits, it definitely is an indication of unusual behavior of the birds.  \n",
    "\n",
    "$\\rightarrow$ The reason why we want to closely look for the vocalization type, based on some refrences, is that call can seldom be interpreted as sign of distress from birds, and one of the sign that should be look for. Since it matchs with our finding earlier, this can indicate that the Rose-crested Blue Pipit population may be indeed in stressed conditions.\n",
    "</div>"
   ]
  },
  {
   "cell_type": "markdown",
   "metadata": {},
   "source": [
    "## Next step to be taken : Audio visualization. \n",
    "\n",
    "Next notebook"
   ]
  },
  {
   "cell_type": "code",
   "execution_count": null,
   "metadata": {},
   "outputs": [],
   "source": []
  }
 ],
 "metadata": {
  "kernelspec": {
   "display_name": "Python 2",
   "language": "python",
   "name": "python2"
  },
  "varInspector": {
   "cols": {
    "lenName": 16,
    "lenType": 16,
    "lenVar": 40
   },
   "kernels_config": {
    "python": {
     "delete_cmd_postfix": "",
     "delete_cmd_prefix": "del ",
     "library": "var_list.py",
     "varRefreshCmd": "print(var_dic_list())"
    },
    "r": {
     "delete_cmd_postfix": ") ",
     "delete_cmd_prefix": "rm(",
     "library": "var_list.r",
     "varRefreshCmd": "cat(var_dic_list()) "
    }
   },
   "types_to_exclude": [
    "module",
    "function",
    "builtin_function_or_method",
    "instance",
    "_Feature"
   ],
   "window_display": false
  }
 },
 "nbformat": 4,
 "nbformat_minor": 2
}
