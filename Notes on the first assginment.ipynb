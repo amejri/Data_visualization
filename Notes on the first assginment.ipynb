{
 "cells": [
  {
   "cell_type": "markdown",
   "metadata": {},
   "source": [
    "<h1>Visualization and Visual Analytics for Data Science</h1>\n",
    "<h1>First Assignment - Angry Birds</h1><br>\n",
    "<h4>BEN BACCAR Yacine, DABGHI Aymen, JERIDI Salma, MEJRI Aymen</h4>\n",
    "<h4>November 3,2018</h4>"
   ]
  },
  {
   "cell_type": "markdown",
   "metadata": {},
   "source": [
    "<div class=\"alert alert-block alert-warning\">\n",
    "    <b>An Overview of the VAST Challenge 2018:</b> *\"Cheep\" Shots?* <br>\n",
    "\n",
    "<p>In 2017, the VAST Challenge results suggested that the Kasios Furniture manufacturing company may have been a primary contributor to the apparent reduction of the number of nesting pairs of the Rose-Crested Blue Pipit, a favorite bird of Mistford residents and Boonsong Lekagul Nature Preserve visitors. Kasios supposedly used the banned substance Methylosmolene in their manufacturing process.</p>\n",
    "<p>Kasios now claims that the analysis was flawed and biased. To combat these conclusions, Kasios has launched their own “investigation” into the Pipit situation, and they are now reporting that there are plenty of Rose-crested Blue Pipits happily living and nesting in the Preserve. To back up this claim, they have provided a set of Pipit bird calls, recently recorded across the Preserve, with locations of where they were recorded. Clearly, they claim, the Pipits are a thriving population, and Kasios will provide even more supporting evidence as their investigation proceeds.</p>\n",
    "<p> Given a collection of bird calls from the Preserve that has been vetted by various ornithology groups as having accurate identifications, the aim of the challenge is to apply machine learning and visual analytics technique to classify the calls and to verify whether the numbers of the Rose-crested Blue Pipit have suffered as a result of Kasios's dumping site or the claims are unfounded and the findings of the company are valid.\n",
    "</p><br>\n",
    "<a href=\"http://www.vacommunity.org/VAST+Challenge+2018+MC1\"><b>Ref: The Visual Analytics website</b></a>\n",
    "</div>"
   ]
  },
  {
   "cell_type": "markdown",
   "metadata": {},
   "source": [
    "<div class=\"alert alert-block alert-info\">\n",
    "<p><b>Assignment 1:</b> Visualize the map and bird locations in the nicest possible way </p>\n",
    "<p>\n",
    "    <ol>\n",
    "      <li>Using Python 3.6 and the Jupyter notebook, show the map in a nice way. </li>\n",
    "      <li>Show all the birds positions from AllBirdsv4.csv over the map </li>\n",
    "      <li>Improve the map to be more readable </li>\n",
    "      <li>Show the 15 positions of the birds from Kasios </li>\n",
    "    </ol> \n",
    "</p>\n",
    "</div>"
   ]
  },
  {
   "cell_type": "markdown",
   "metadata": {},
   "source": [
    "<h3>Our Process:</h3>\n",
    "<p>As for any challenge of this kind, first, we started by extracting the data about the bird from the CSV file \"All_Birds.csv\". There was some preprocessing to be done on the data because some rows presented invalid values or diffrent formatting of the data (the case of dates in the pandas dataframe).<br>\n",
    "One more preprocessing was done, but this time on the map provided with challenge data to make it look less choppy. So we started, by resizing the map from a 200x200 image to 800x800 so that when we plot bigger plots it doesn't get pixelated and then we applied some transformations (gaussian blur, edge smoothing,etc...) to get something that looks more natural.\n",
    "</p>\n",
    "<p>Once we got our data \"cleaned\", we were ready to start visualizing.</p>\n",
    "<p>At first, we plotted all the bird's records (of all time) on the map so that we get some sense of where the birds can be found. Afterwards, we made a reprsentation of the locations of every bird depending on its type. And on the final iteration, we made it possible to visualize the position of each type of bird on a specific date. Furthermore, we made it possible to see the position of the birds provided by kasios of the \"Unknown type\". These birds are represented with different markers and size than the vetted data provided by the ornithology groups, to distinguish it from the rest of the vetted data.</p>\n",
    "<p>We used the bokeh library to create our interactive maps, with the options to select one or multiple types of the 19 types of birds to view on the map and the ability to see the evolution of their traveling habits over time (from 1983 to 2018)</p>\n",
    "<p>An important part of the analysis was to generate plot that depict the migration pattern of all the birds over time (base on the data we have) espcially the migration patter of the Rose-crested Blue Pipit which is displayed below. We can clearly see the population of this type of birds fleeing the dumping site area and settling a little to the south.</p>\n",
    "<p>The other birds seem unaffected with the presence of the dumping site as most of them did not have a huge presence of nests around the dumping site area. (Their migration pattern is displayed below)</p>"
   ]
  },
  {
   "cell_type": "markdown",
   "metadata": {},
   "source": [
    "<h3>Rose-crested Blue PipitMirgration Pattern</h3><img src=\"./migration patterns/Rose-crested Blue Pipit.gif\" height=\"80%\" width=\"80%\"><h3>Blue-collared ZipperMirgration Pattern</h3><img src=\"./migration patterns/Blue-collared Zipper.gif\" height=\"80%\" width=\"80%\"><h3>BombadilMirgration Pattern</h3><img src=\"./migration patterns/Bombadil.gif\" height=\"80%\" width=\"80%\"><h3>Broad-winged JojoMirgration Pattern</h3><img src=\"./migration patterns/Broad-winged Jojo.gif\" height=\"80%\" width=\"80%\"><h3>Canadian CootamumMirgration Pattern</h3><img src=\"./migration patterns/Canadian Cootamum.gif\" height=\"80%\" width=\"80%\"><h3>Carries Champagne PipitMirgration Pattern</h3><img src=\"./migration patterns/Carries Champagne Pipit.gif\" height=\"80%\" width=\"80%\"><h3>Darkwing SparrowMirgration Pattern</h3><img src=\"./migration patterns/Darkwing Sparrow.gif\" height=\"80%\" width=\"80%\"><h3>Eastern Corn SkeetMirgration Pattern</h3><img src=\"./migration patterns/Eastern Corn Skeet.gif\" height=\"80%\" width=\"80%\"><h3>Green-tipped Scarlet PipitMirgration Pattern</h3><img src=\"./migration patterns/Green-tipped Scarlet Pipit.gif\" height=\"80%\" width=\"80%\"><h3>Lesser BirchbeereMirgration Pattern</h3><img src=\"./migration patterns/Lesser Birchbeere.gif\" height=\"80%\" width=\"80%\"><h3>Orange Pine PloverMirgration Pattern</h3><img src=\"./migration patterns/Orange Pine Plover.gif\" height=\"80%\" width=\"80%\"><h3>Ordinary SnapeMirgration Pattern</h3><img src=\"./migration patterns/Ordinary Snape.gif\" height=\"80%\" width=\"80%\"><h3>PinkfinchMirgration Pattern</h3><img src=\"./migration patterns/Pinkfinch.gif\" height=\"80%\" width=\"80%\"><h3>Purple Tooting ToutMirgration Pattern</h3><img src=\"./migration patterns/Purple Tooting Tout.gif\" height=\"80%\" width=\"80%\"><h3>QaxMirgration Pattern</h3><img src=\"./migration patterns/Qax.gif\" height=\"80%\" width=\"80%\"><h3>QueenscoatMirgration Pattern</h3><img src=\"./migration patterns/Queenscoat.gif\" height=\"80%\" width=\"80%\"><h3>Bent-beak RiffraffMirgration Pattern</h3><img src=\"./migration patterns/Bent-beak Riffraff.gif\" height=\"80%\" width=\"80%\"><h3>Scrawny JayMirgration Pattern</h3><img src=\"./migration patterns/Scrawny Jay.gif\" height=\"80%\" width=\"80%\"><h3>Vermillion TrillianMirgration Pattern</h3><img src=\"./migration patterns/Vermillion Trillian.gif\" height=\"80%\" width=\"80%\">"
   ]
  },
  {
   "cell_type": "markdown",
   "metadata": {},
   "source": [
    "<div class=\"alert alert-block alert-info\">\n",
    "<p><b>Assignment 2:</b> Story of Assignment 1 and visualization of bird sound files </p>\n",
    "<p>\n",
    "    <ol>\n",
    "      <li>Turn your visualizations from Assignment 1 into a report (e.g. Doc file) explaining what you have found so far and what your next steps might be to answer the mini challenge.  </li>\n",
    "      <li>Collect a list of methods to classify bird sound from the literature, starting from e.g. Automated bird sound recognition in realistic settings and its references. </li>\n",
    "      <li>Visualize multiple audio signals and their 2D spectrograms to facilitate visual inspection and comparison.</li>\n",
    "      <li>Although automated classification can be applied to Kasios sound files, find some visual features that can be highlighted in the visualization to help understand the most important features for discriminating bird sounds? You don't need to be 100% successful of course.</li>\n",
    "    </ol> \n",
    "</p>\n",
    "</div>"
   ]
  },
  {
   "cell_type": "markdown",
   "metadata": {},
   "source": [
    "<h3>Preview of the next assginment:</h3>\n",
    "<p>The first step of this assginment was to convert the call files from the mp3 format to the wav format, so that we can use the Python library librosa for signal processing.</p>\n",
    "<p>Afterwards, we started by plotting the signal of the calls for all types of birds and then we plotted their spectrogram using the FFT to find at which frequencies the calls are made and their amplitude.</p>\n",
    "<p>As a third step, we processed the signals to reduce the noise and improve the signal to noise ratio by applying a bandpass filter, we noticed an improvment on the original samples. In the end, we are using the MFCC method to extrat defining features of each bird's call to be able to predict the type of birds in the data provided by Kasios</p><br>\n",
    "<a href=\"https://arxiv.org/abs/1809.01133\"><b>Ref: Automated bird sound recognition in realistic settings</b></a>"
   ]
  }
 ],
 "metadata": {
  "kernelspec": {
   "display_name": "Python 3",
   "language": "python",
   "name": "python3"
  },
  "language_info": {
   "codemirror_mode": {
    "name": "ipython",
    "version": 3
   },
   "file_extension": ".py",
   "mimetype": "text/x-python",
   "name": "python",
   "nbconvert_exporter": "python",
   "pygments_lexer": "ipython3",
   "version": "3.7.0"
  }
 },
 "nbformat": 4,
 "nbformat_minor": 2
}
